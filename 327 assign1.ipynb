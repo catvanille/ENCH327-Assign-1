{
 "cells": [
  {
   "cell_type": "code",
   "execution_count": 1,
   "metadata": {},
   "outputs": [],
   "source": [
    "# import data and functions module\n",
    "from functions import *\n",
    "path_308 = 'data/308.15.txt'\n",
    "path_358 = 'data/358.15.txt'\n",
    "path_408 = 'data/408.15.txt'\n",
    "\n",
    "data_308 = pd.read_csv(path_308, delimiter='\\t')\n",
    "data_358 = pd.read_csv(path_358, delimiter='\\t')\n",
    "data_408 = pd.read_csv(path_408, delimiter='\\t')"
   ]
  },
  {
   "cell_type": "markdown",
   "metadata": {},
   "source": [
    "Q2. Table 1. molar volume, compressibility factor for CO 2 at 35o C, 85o C and 135o C over 0.18-18 MPa\n"
   ]
  },
  {
   "cell_type": "code",
   "execution_count": null,
   "metadata": {},
   "outputs": [],
   "source": [
    "# Define pressure and temperature values as NumPy arrays\n",
    "P_vals = 1000000*np.array([0.18, 2, 4, 6, 8, 10, 12, 14, 16, 18]) # Pa\n",
    "T_vals = np.array([308.15, 358.15, 408.15]) # K\n",
    "datasets = [data_308, data_358, data_408]\n",
    "\n",
    "Table1 = pd.DataFrame(columns=[\"P (MPa)\", \"v(m3/mol)\", \"Z\", \"PR-Z\", \"% Diff Z\"])\n",
    "i = 0 # index for datasets\n",
    "j = 0 # index for NIST data\n",
    "k = 0 # index for Table1\n",
    "\n",
    "for T in T_vals:\n",
    "  for P in P_vals:\n",
    "    Table1.at[k, \"P (MPa)\"] = P/1000000\n",
    "\n",
    "    PRZ = calc_PRZ(T, P) # Calculate PR-Z using Peng-Robinson EOS\n",
    "    Table1.at[k, \"PR-Z\"] = PRZ\n",
    "\n",
    "    data = datasets[i]\n",
    "    Z = calc_Z(T, P, data[\"Volume (m3/mol)\"][j]) # Calculate Z using NIST data\n",
    "    Table1.at[k, \"v(m3/mol)\"] = data[\"Volume (m3/mol)\"][j]\n",
    "    Table1.at[k, \"Z\"] = Z\n",
    "\n",
    "    percent_diffz = percent_diff(Z,PRZ) # Calculate percent difference between PR-Z and NIST Z\n",
    "    Table1.at[k, \"% Diff Z\"] = percent_diffz\n",
    "\n",
    "    if j < 9:\n",
    "      j += 1\n",
    "    k += 1  \n",
    "  j = 0\n",
    "  i += 1"
   ]
  },
  {
   "cell_type": "markdown",
   "metadata": {},
   "source": [
    "Q2. Table 2. Enthalpy difference for CO2 at specified P and T"
   ]
  },
  {
   "cell_type": "code",
   "execution_count": null,
   "metadata": {},
   "outputs": [],
   "source": [
    "P2_vals = 1000000*np.array([2, 8, 16])\n",
    "Table2 = pd.DataFrame(columns=[\"P (MPa)\", \"Delta H T85-T35 (kJ/mol)\", \"Delta Hdep T85-T35 (kJ/mol)\", \"Delta H T135-T35 (kJ/mol)\", \n",
    "                               \"Delta Hdep T135-T35 (kJ/mol)\"])\n",
    "\n",
    "l=0 # index for Table2\n",
    "m = [1, 4, 8] # index in data, starting at P=2 MPa\n",
    "\n",
    "for P in P2_vals: \n",
    "    Table2.at[l, \"P (MPa)\"] = P/1000000\n",
    "    DeltaH1 = data_358[\"Enthalpy (kJ/mol)\"][m[l]] - data_308[\"Enthalpy (kJ/mol)\"][m[l]]\n",
    "    Table2.at[l, \"Delta H T85-T35 (kJ/mol)\"] = DeltaH1\n",
    "\n",
    "    DeltaHid1 = calc_idealH(308.15, 358.15)\n",
    "    Hres308 = res_enth(308.15, P, calc_PRZ(308.15, P))\n",
    "    Hres358 = res_enth(358.15, P, calc_PRZ(358.15, P))\n",
    "    DeltaHdep1 = DeltaHid1 + (Hres358 - Hres308)\n",
    "    Table2.at[l, \"Delta Hdep T85-T35 (kJ/mol)\"] = DeltaHdep1\n",
    "\n",
    "    DeltaH2 = data_408[\"Enthalpy (kJ/mol)\"][m[l]] - data_308[\"Enthalpy (kJ/mol)\"][m[l]]\n",
    "    Table2.at[l, \"Delta H T135-T35 (kJ/mol)\"] = DeltaH2\n",
    "\n",
    "    DeltaHid2 = calc_idealH(308.15, 408.15)\n",
    "    Hres408 = res_enth(408.15, P, calc_PRZ(408.15, P))\n",
    "    DeltaHdep2 = DeltaHid2 + (Hres408 - Hres308)\n",
    "    Table2.at[l, \"Delta Hdep T135-T35 (kJ/mol)\"] = DeltaHdep2\n",
    "\n",
    "    l += 1"
   ]
  },
  {
   "cell_type": "markdown",
   "metadata": {},
   "source": [
    "Q5. Table 3: Welec done at each stage of compression for CO2"
   ]
  },
  {
   "cell_type": "markdown",
   "metadata": {},
   "source": [
    "Q6. Table 4: Heat duty of inter-stage coolers using dep function expression and ideal gas heat capacity (Cp)"
   ]
  },
  {
   "cell_type": "code",
   "execution_count": null,
   "metadata": {},
   "outputs": [],
   "source": [
    "const_P = [5.4, 16.2, 18] # MPa\n",
    "inlet_T = [412.24, 358.15, 408.15] # K\n",
    "t = 0 # index for inlet_T\n",
    "table4 = pd.DataFrame(columns=[\"Inlet P (MPa)\", \"Outlet P (MPa)\", \"Inlet T (oC)\", \"Outlet T (oC)\", \"Q (MW)\"])\n",
    "for P in const_P:\n",
    "\n",
    "    table4.at[t, \"Inlet P (MPa)\"] = P\n",
    "    table4.at[t, \"Outlet P (MPa)\"] = P\n",
    "    table4.at[t, \"Inlet T (oC)\"] = inlet_T[t] - 273.15\n",
    "    table4.at[t, \"Outlet T (oC)\"] = 40\n",
    "    Q = calc_Q(inlet_T[t], 40+273.15, P*1000000, calc_mol_flow())\n",
    "    table4.at[t, \"Q (MW)\"] = Q\n",
    "    t += 1"
   ]
  },
  {
   "cell_type": "code",
   "execution_count": 4,
   "metadata": {},
   "outputs": [
    {
     "name": "stdout",
     "output_type": "stream",
     "text": [
      "-563.3017564228367\n"
     ]
    }
   ],
   "source": [
    "Hout = res_enth(313.15, 5.4e6, calc_PRZ(313.15, 5.4e6))\n",
    "Hin = res_enth(412.24, 5.4e6, calc_PRZ(412.24, 5.4e6))\n",
    "Hid = calc_idealH(412.24, 313.15)\n",
    "Hdep = Hid + (Hout-Hin)\n",
    "print(Hdep*calc_mol_flow())"
   ]
  }
 ],
 "metadata": {
  "kernelspec": {
   "display_name": "Python 3",
   "language": "python",
   "name": "python3"
  },
  "language_info": {
   "codemirror_mode": {
    "name": "ipython",
    "version": 3
   },
   "file_extension": ".py",
   "mimetype": "text/x-python",
   "name": "python",
   "nbconvert_exporter": "python",
   "pygments_lexer": "ipython3",
   "version": "3.10.11"
  }
 },
 "nbformat": 4,
 "nbformat_minor": 2
}
