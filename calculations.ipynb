{
 "cells": [
  {
   "cell_type": "code",
   "execution_count": 1,
   "metadata": {},
   "outputs": [],
   "source": [
    "# import data and functions module\n",
    "import tabulate\n",
    "from functions import *\n",
    "path_308 = 'data/308.15.txt'\n",
    "path_358 = 'data/358.15.txt'\n",
    "path_408 = 'data/408.15.txt'\n",
    "path_313 = 'data/313.15.txt'\n",
    "\n",
    "data_308 = pd.read_csv(path_308, delimiter='\\t')\n",
    "data_358 = pd.read_csv(path_358, delimiter='\\t')\n",
    "data_408 = pd.read_csv(path_408, delimiter='\\t')\n",
    "data_313 = pd.read_csv(path_313, delimiter='\\t')"
   ]
  },
  {
   "cell_type": "markdown",
   "metadata": {},
   "source": [
    "Q2. Table 1. molar volume, compressibility factor for CO 2 at 35o C, 85o C and 135o C over 0.18-18 MPa\n"
   ]
  },
  {
   "cell_type": "code",
   "execution_count": 2,
   "metadata": {},
   "outputs": [],
   "source": [
    "# Define pressure and temperature values as NumPy arrays\n",
    "P_vals = 1000000*np.array([0.18, 2, 4, 6, 8, 10, 12, 14, 16, 18]) # Pa\n",
    "T_vals = np.array([308.15, 358.15, 408.15]) # K\n",
    "datasets = [data_308, data_358, data_408]\n",
    "\n",
    "table1 = pd.DataFrame(columns=[\"P (MPa)\", \"v(m3/mol)\", \"Z\", \"PR-Z\", \"% Diff Z\"])\n",
    "i = 0 # index for datasets\n",
    "j = 0 # index for NIST data\n",
    "k = 0 # index for table1\n",
    "\n",
    "for T in T_vals:\n",
    "  for P in P_vals:\n",
    "    table1.at[k, \"P (MPa)\"] = P/1000000\n",
    "\n",
    "    PRZ = calc_PRZ(T, P) # Calculate PR-Z using Peng-Robinson EOS\n",
    "    table1.at[k, \"PR-Z\"] = PRZ\n",
    "\n",
    "    data = datasets[i]\n",
    "    Z = calc_Z(T, P, data[\"Volume (m3/mol)\"][j]) # Calculate Z using NIST data\n",
    "    table1.at[k, \"v(m3/mol)\"] = data[\"Volume (m3/mol)\"][j]\n",
    "    table1.at[k, \"Z\"] = Z\n",
    "\n",
    "    percent_diffz = percent_diff(Z,PRZ) # Calculate percent difference between PR-Z and NIST Z\n",
    "    table1.at[k, \"% Diff Z\"] = percent_diffz\n",
    "\n",
    "    if j < 9:\n",
    "      j += 1\n",
    "    k += 1  \n",
    "  j = 0\n",
    "  i += 1\n",
    "table1.to_markdown(\"table1.md\", index=False)"
   ]
  },
  {
   "cell_type": "markdown",
   "metadata": {},
   "source": [
    "Q2. Table 2. Enthalpy difference for CO2 at specified P and T"
   ]
  },
  {
   "cell_type": "code",
   "execution_count": 44,
   "metadata": {},
   "outputs": [],
   "source": [
    "P2_vals = 1000000*np.array([2, 8, 16])\n",
    "table2 = pd.DataFrame(columns=[\"P (MPa)\", \"Delta H T85-T35 (kJ/mol)\", \"Delta Hdep T85-T35 (kJ/mol)\", \"Delta H T135-T35 (kJ/mol)\", \n",
    "                               \"Delta Hdep T135-T35 (kJ/mol)\"])\n",
    "\n",
    "l=0 # index for table2\n",
    "m = [1, 4, 8] # index in data, starting at P=2 MPa\n",
    "\n",
    "for P in P2_vals: \n",
    "    table2.at[l, \"P (MPa)\"] = P/1000000\n",
    "    DeltaH1 = data_358[\"Enthalpy (kJ/mol)\"][m[l]] - data_308[\"Enthalpy (kJ/mol)\"][m[l]]\n",
    "    table2.at[l, \"Delta H T85-T35 (kJ/mol)\"] = DeltaH1\n",
    "\n",
    "    DeltaHid1 = calc_idealH(308.15, 358.15)\n",
    "    Hres308 = res_enth(308.15, P, calc_PRZ(308.15, P))\n",
    "    Hres358 = res_enth(358.15, P, calc_PRZ(358.15, P))\n",
    "    DeltaHdep1 = DeltaHid1 + (Hres358 - Hres308)\n",
    "    table2.at[l, \"Delta Hdep T85-T35 (kJ/mol)\"] = DeltaHdep1\n",
    "\n",
    "    DeltaH2 = data_408[\"Enthalpy (kJ/mol)\"][m[l]] - data_308[\"Enthalpy (kJ/mol)\"][m[l]]\n",
    "    table2.at[l, \"Delta H T135-T35 (kJ/mol)\"] = DeltaH2\n",
    "\n",
    "    DeltaHid2 = calc_idealH(308.15, 408.15)\n",
    "    Hres408 = res_enth(408.15, P, calc_PRZ(408.15, P))\n",
    "    DeltaHdep2 = DeltaHid2 + (Hres408 - Hres308)\n",
    "    table2.at[l, \"Delta Hdep T135-T35 (kJ/mol)\"] = DeltaHdep2\n",
    "\n",
    "    l += 1\n",
    "table2.to_markdown(\"table2.md\", index=False)"
   ]
  },
  {
   "cell_type": "markdown",
   "metadata": {},
   "source": [
    "Q4 Finding the number of compression stages with intercooling"
   ]
  },
  {
   "cell_type": "code",
   "execution_count": 47,
   "metadata": {},
   "outputs": [
    {
     "name": "stdout",
     "output_type": "stream",
     "text": [
      "5\n"
     ]
    }
   ],
   "source": [
    "P = .18 # MPa, starting pressure\n",
    "inlet_P= []\n",
    "while P <= 18:\n",
    "    inlet_P.append(round(P,3))\n",
    "    P = P*3\n",
    "print(len(inlet_P))"
   ]
  },
  {
   "cell_type": "markdown",
   "metadata": {},
   "source": [
    "Q5. Calculations for H_in, H_out real"
   ]
  },
  {
   "cell_type": "code",
   "execution_count": 48,
   "metadata": {},
   "outputs": [],
   "source": [
    "outlet_P = [0.54, 1.62, 4.86, 14.58, 18] # MPa\n",
    "outlet_T = [408.91, 409.66, 411.92, 413.78, 318.13] # K, at real outlet enthalpy, manually found using NIST\n",
    "H_in = [] # kJ/mol, corresponding to inlet_P at 40 oC\n",
    "entropy = [] # J/mol-K, corresponding to inlet_P at 40 oC\n",
    "H_s = [25.998, 25.809, 25.224, 23.116, 12.804] # kJ/mol, at outlet_P at entropy, manually found using NIST and added to isentropic.txt\n",
    "H_out = [] # kJ/mol, actual enthalpy at outlet_P\n",
    "for p in inlet_P:\n",
    "    row = data_313[data_313[\"Pressure (MPa)\"] == p] # find row in data_313 with matching pressure\n",
    "    entropy.append(row[\"Entropy (J/mol*K)\"].iloc[0]) # append entropy to list, constant for each stage\n",
    "    H_in.append(row[\"Enthalpy (kJ/mol)\"].iloc[0]) # append enthalpy to list \n",
    "for a in range(len(outlet_P)): \n",
    "    H_out.append(Hreal_out(H_in[a], H_s[a])) # calculate actual enthalpy at outlet_P"
   ]
  },
  {
   "cell_type": "markdown",
   "metadata": {},
   "source": [
    "Q5. Table 3: Welec done at each stage of compression for CO2"
   ]
  },
  {
   "cell_type": "code",
   "execution_count": 50,
   "metadata": {},
   "outputs": [],
   "source": [
    "table3 = pd.DataFrame(columns=[\"Inlet P (MPa)\", \"Outlet P (MPa)\", \"Inlet T (oC)\", \"Outlet T (oC)\",\"Welec (MW)\"])\n",
    "for i in range(5):\n",
    "    table3.at[i, \"Inlet P (MPa)\"] = inlet_P[i]\n",
    "    table3.at[i, \"Outlet P (MPa)\"] = outlet_P[i]\n",
    "    table3.at[i, \"Inlet T (oC)\"] = 40\n",
    "    table3.at[i, \"Outlet T (oC)\"] = outlet_T[i] - 273.15\n",
    "    table3.at[i, \"Welec (MW)\"] = calc_work(H_in[i], Hreal_out(H_in[i], H_s[i]), calc_mol_flow())\n",
    "table3.to_markdown(\"table3.md\", index=False)"
   ]
  },
  {
   "cell_type": "markdown",
   "metadata": {},
   "source": [
    "Q6. Table 4: Heat duty of inter-stage coolers using dep function expression and ideal gas heat capacity (Cp)"
   ]
  },
  {
   "cell_type": "code",
   "execution_count": 51,
   "metadata": {},
   "outputs": [],
   "source": [
    "t = 0 # index for inlet_T, which is equal to outlet_T\n",
    "table4 = pd.DataFrame(columns=[\"Inlet P (MPa)\", \"Outlet P (MPa)\", \"Inlet T (oC)\", \"Outlet T (oC)\", \"Q (MW)\"])\n",
    "for P in outlet_P:\n",
    "    table4.at[t, \"Inlet P (MPa)\"] = P\n",
    "    table4.at[t, \"Outlet P (MPa)\"] = P\n",
    "    table4.at[t, \"Inlet T (oC)\"] = outlet_T[t] - 273.15\n",
    "    table4.at[t, \"Outlet T (oC)\"] = 40\n",
    "    Q = calc_Q(outlet_T[t], 40+273.15, P*1000000, calc_mol_flow())\n",
    "    table4.at[t, \"Q (MW)\"] = Q\n",
    "    t += 1\n",
    "table4.to_markdown(\"table4.md\", index=False)"
   ]
  },
  {
   "cell_type": "markdown",
   "metadata": {},
   "source": [
    "Q7. Calculations for operating expense for compression only"
   ]
  },
  {
   "cell_type": "code",
   "execution_count": 57,
   "metadata": {},
   "outputs": [
    {
     "name": "stdout",
     "output_type": "stream",
     "text": [
      "14.382163996528673\n"
     ]
    }
   ],
   "source": [
    "total_cost = 0 # $/ton, where cost is 16.147 cents/ kWh [2]\n",
    "for i in range(5):\n",
    "    cost=table3.at[i, \"Welec (MW)\"]*16.147*1000*24/(100*400)\n",
    "    total_cost += cost\n",
    "print(total_cost)"
   ]
  },
  {
   "cell_type": "markdown",
   "metadata": {},
   "source": [
    "Q8. Percent of carbon credit attributed to CO2 compression"
   ]
  },
  {
   "cell_type": "code",
   "execution_count": 58,
   "metadata": {},
   "outputs": [
    {
     "name": "stdout",
     "output_type": "stream",
     "text": [
      "23.97027332754779\n"
     ]
    }
   ],
   "source": [
    "percent = total_cost/60 *100 # $60/ ton is the carbon credit\n",
    "print(percent)"
   ]
  }
 ],
 "metadata": {
  "kernelspec": {
   "display_name": "Python 3",
   "language": "python",
   "name": "python3"
  },
  "language_info": {
   "codemirror_mode": {
    "name": "ipython",
    "version": 3
   },
   "file_extension": ".py",
   "mimetype": "text/x-python",
   "name": "python",
   "nbconvert_exporter": "python",
   "pygments_lexer": "ipython3",
   "version": "3.10.11"
  }
 },
 "nbformat": 4,
 "nbformat_minor": 2
}
