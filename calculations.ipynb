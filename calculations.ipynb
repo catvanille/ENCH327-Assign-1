{
 "cells": [
  {
   "cell_type": "code",
   "execution_count": 1,
   "metadata": {},
   "outputs": [],
   "source": [
    "# import data and functions module\n",
    "from functions import *\n",
    "path_308 = 'data/308.15.txt'\n",
    "path_358 = 'data/358.15.txt'\n",
    "path_408 = 'data/408.15.txt'\n",
    "\n",
    "data_308 = pd.read_csv(path_308, delimiter='\\t')\n",
    "data_358 = pd.read_csv(path_358, delimiter='\\t')\n",
    "data_408 = pd.read_csv(path_408, delimiter='\\t')"
   ]
  },
  {
   "cell_type": "markdown",
   "metadata": {},
   "source": [
    "Q2. Table 1. molar volume, compressibility factor for CO 2 at 35o C, 85o C and 135o C over 0.18-18 MPa\n"
   ]
  },
  {
   "cell_type": "code",
   "execution_count": null,
   "metadata": {},
   "outputs": [],
   "source": [
    "# Define pressure and temperature values as NumPy arrays\n",
    "P_vals = 1000000*np.array([0.18, 2, 4, 6, 8, 10, 12, 14, 16, 18]) # Pa\n",
    "T_vals = np.array([308.15, 358.15, 408.15]) # K\n",
    "datasets = [data_308, data_358, data_408]\n",
    "\n",
    "table1 = pd.DataFrame(columns=[\"P (MPa)\", \"v(m3/mol)\", \"Z\", \"PR-Z\", \"% Diff Z\"])\n",
    "i = 0 # index for datasets\n",
    "j = 0 # index for NIST data\n",
    "k = 0 # index for table1\n",
    "\n",
    "for T in T_vals:\n",
    "  for P in P_vals:\n",
    "    table1.at[k, \"P (MPa)\"] = P/1000000\n",
    "\n",
    "    PRZ = calc_PRZ(T, P) # Calculate PR-Z using Peng-Robinson EOS\n",
    "    table1.at[k, \"PR-Z\"] = PRZ\n",
    "\n",
    "    data = datasets[i]\n",
    "    Z = calc_Z(T, P, data[\"Volume (m3/mol)\"][j]) # Calculate Z using NIST data\n",
    "    table1.at[k, \"v(m3/mol)\"] = data[\"Volume (m3/mol)\"][j]\n",
    "    table1.at[k, \"Z\"] = Z\n",
    "\n",
    "    percent_diffz = percent_diff(Z,PRZ) # Calculate percent difference between PR-Z and NIST Z\n",
    "    table1.at[k, \"% Diff Z\"] = percent_diffz\n",
    "\n",
    "    if j < 9:\n",
    "      j += 1\n",
    "    k += 1  \n",
    "  j = 0\n",
    "  i += 1"
   ]
  },
  {
   "cell_type": "markdown",
   "metadata": {},
   "source": [
    "Q2. Table 2. Enthalpy difference for CO2 at specified P and T"
   ]
  },
  {
   "cell_type": "code",
   "execution_count": 3,
   "metadata": {},
   "outputs": [
    {
     "data": {
      "text/html": [
       "<div>\n",
       "<style scoped>\n",
       "    .dataframe tbody tr th:only-of-type {\n",
       "        vertical-align: middle;\n",
       "    }\n",
       "\n",
       "    .dataframe tbody tr th {\n",
       "        vertical-align: top;\n",
       "    }\n",
       "\n",
       "    .dataframe thead th {\n",
       "        text-align: right;\n",
       "    }\n",
       "</style>\n",
       "<table border=\"1\" class=\"dataframe\">\n",
       "  <thead>\n",
       "    <tr style=\"text-align: right;\">\n",
       "      <th></th>\n",
       "      <th>P (MPa)</th>\n",
       "      <th>Delta H T85-T35 (kJ/mol)</th>\n",
       "      <th>Delta Hdep T85-T35 (kJ/mol)</th>\n",
       "      <th>Delta H T135-T35 (kJ/mol)</th>\n",
       "      <th>Delta Hdep T135-T35 (kJ/mol)</th>\n",
       "    </tr>\n",
       "  </thead>\n",
       "  <tbody>\n",
       "    <tr>\n",
       "      <th>0</th>\n",
       "      <td>2.0</td>\n",
       "      <td>2.182</td>\n",
       "      <td>2.187044</td>\n",
       "      <td>4.359</td>\n",
       "      <td>4.431875</td>\n",
       "    </tr>\n",
       "    <tr>\n",
       "      <th>1</th>\n",
       "      <td>8.0</td>\n",
       "      <td>6.46</td>\n",
       "      <td>5.933629</td>\n",
       "      <td>9.32</td>\n",
       "      <td>8.850344</td>\n",
       "    </tr>\n",
       "    <tr>\n",
       "      <th>2</th>\n",
       "      <td>16.0</td>\n",
       "      <td>6.441</td>\n",
       "      <td>6.390265</td>\n",
       "      <td>10.909</td>\n",
       "      <td>10.696158</td>\n",
       "    </tr>\n",
       "  </tbody>\n",
       "</table>\n",
       "</div>"
      ],
      "text/plain": [
       "  P (MPa) Delta H T85-T35 (kJ/mol) Delta Hdep T85-T35 (kJ/mol)  \\\n",
       "0     2.0                    2.182                    2.187044   \n",
       "1     8.0                     6.46                    5.933629   \n",
       "2    16.0                    6.441                    6.390265   \n",
       "\n",
       "  Delta H T135-T35 (kJ/mol) Delta Hdep T135-T35 (kJ/mol)  \n",
       "0                     4.359                     4.431875  \n",
       "1                      9.32                     8.850344  \n",
       "2                    10.909                    10.696158  "
      ]
     },
     "execution_count": 3,
     "metadata": {},
     "output_type": "execute_result"
    }
   ],
   "source": [
    "P2_vals = 1000000*np.array([2, 8, 16])\n",
    "table2 = pd.DataFrame(columns=[\"P (MPa)\", \"Delta H T85-T35 (kJ/mol)\", \"Delta Hdep T85-T35 (kJ/mol)\", \"Delta H T135-T35 (kJ/mol)\", \n",
    "                               \"Delta Hdep T135-T35 (kJ/mol)\"])\n",
    "\n",
    "l=0 # index for table2\n",
    "m = [1, 4, 8] # index in data, starting at P=2 MPa\n",
    "\n",
    "for P in P2_vals: \n",
    "    table2.at[l, \"P (MPa)\"] = P/1000000\n",
    "    DeltaH1 = data_358[\"Enthalpy (kJ/mol)\"][m[l]] - data_308[\"Enthalpy (kJ/mol)\"][m[l]]\n",
    "    table2.at[l, \"Delta H T85-T35 (kJ/mol)\"] = DeltaH1\n",
    "\n",
    "    DeltaHid1 = calc_idealH(308.15, 358.15)\n",
    "    Hres308 = res_enth(308.15, P, calc_PRZ(308.15, P))\n",
    "    Hres358 = res_enth(358.15, P, calc_PRZ(358.15, P))\n",
    "    DeltaHdep1 = DeltaHid1 + (Hres358 - Hres308)\n",
    "    table2.at[l, \"Delta Hdep T85-T35 (kJ/mol)\"] = DeltaHdep1\n",
    "\n",
    "    DeltaH2 = data_408[\"Enthalpy (kJ/mol)\"][m[l]] - data_308[\"Enthalpy (kJ/mol)\"][m[l]]\n",
    "    table2.at[l, \"Delta H T135-T35 (kJ/mol)\"] = DeltaH2\n",
    "\n",
    "    DeltaHid2 = calc_idealH(308.15, 408.15)\n",
    "    Hres408 = res_enth(408.15, P, calc_PRZ(408.15, P))\n",
    "    DeltaHdep2 = DeltaHid2 + (Hres408 - Hres308)\n",
    "    table2.at[l, \"Delta Hdep T135-T35 (kJ/mol)\"] = DeltaHdep2\n",
    "\n",
    "    l += 1\n",
    "table2"
   ]
  },
  {
   "cell_type": "markdown",
   "metadata": {},
   "source": [
    "Q5. Table 3: Welec done at each stage of compression for CO2\n",
    "The compressor is assumed to be:\n",
    "- adiabatic\n",
    "- neglibible change in kinetic and potential energy\n",
    "- continuous flow at steady state\n",
    "- no reactions"
   ]
  },
  {
   "cell_type": "code",
   "execution_count": 9,
   "metadata": {},
   "outputs": [
    {
     "ename": "NameError",
     "evalue": "name 'Hreal_out' is not defined",
     "output_type": "error",
     "traceback": [
      "\u001b[1;31m---------------------------------------------------------------------------\u001b[0m",
      "\u001b[1;31mNameError\u001b[0m                                 Traceback (most recent call last)",
      "Cell \u001b[1;32mIn[9], line 12\u001b[0m\n\u001b[0;32m     10\u001b[0m table3\u001b[38;5;241m.\u001b[39mat[i, \u001b[38;5;124m\"\u001b[39m\u001b[38;5;124mInlet T (oC)\u001b[39m\u001b[38;5;124m\"\u001b[39m] \u001b[38;5;241m=\u001b[39m \u001b[38;5;241m40\u001b[39m\n\u001b[0;32m     11\u001b[0m table3\u001b[38;5;241m.\u001b[39mat[i, \u001b[38;5;124m\"\u001b[39m\u001b[38;5;124mOutlet T (oC)\u001b[39m\u001b[38;5;124m\"\u001b[39m] \u001b[38;5;241m=\u001b[39m outlet_T[i] \u001b[38;5;241m-\u001b[39m \u001b[38;5;241m273.15\u001b[39m\n\u001b[1;32m---> 12\u001b[0m table3\u001b[38;5;241m.\u001b[39mat[i, \u001b[38;5;124m\"\u001b[39m\u001b[38;5;124mWelec (MW)\u001b[39m\u001b[38;5;124m\"\u001b[39m] \u001b[38;5;241m=\u001b[39m calc_work(H_in[i], \u001b[43mHreal_out\u001b[49m(H_in[i], H_s[i]))\n",
      "\u001b[1;31mNameError\u001b[0m: name 'Hreal_out' is not defined"
     ]
    }
   ],
   "source": [
    "inlet_P = [1.8, 5.4, 16.2] # MPa\n",
    "outlet_P = [5.4, 16.2, 18]  # MPa\n",
    "outlet_T = [358.15, 408.15, 408.15] # K\n",
    "H_in = [308.15, 308.15, 308.15] # enthalpy from NIST\n",
    "H_s = [6.5, 6.5, 6.5] # entropy from NIST\n",
    "table3 = pd.DataFrame(columns=[\"Inlet P (MPa)\", \"Outlet P (MPa)\", \"Inlet T (oC)\", \"Outlet T (oC)\",\"Welec (MW)\"])\n",
    "for i in range(3):\n",
    "    table3.at[i, \"Inlet P (MPa)\"] = inlet_P[i]\n",
    "    table3.at[i, \"Outlet P (MPa)\"] = outlet_P[i]\n",
    "    table3.at[i, \"Inlet T (oC)\"] = 40\n",
    "    table3.at[i, \"Outlet T (oC)\"] = outlet_T[i] - 273.15\n",
    "    table3.at[i, \"Welec (MW)\"] = calc_work(H_in[i], Hreal_out(H_in[i], H_s[i]))"
   ]
  },
  {
   "cell_type": "markdown",
   "metadata": {},
   "source": [
    "Q6. Table 4: Heat duty of inter-stage coolers using dep function expression and ideal gas heat capacity (Cp)\n",
    "The coolers are assumed to be:\n",
    "- not have any moving parts\n",
    "- neglibible change in kinetic and potential energy\n",
    "- continuous flow at steady state\n",
    "- no reactions"
   ]
  },
  {
   "cell_type": "code",
   "execution_count": 4,
   "metadata": {},
   "outputs": [],
   "source": [
    "const_P = [5.4, 16.2, 18] # MPa\n",
    "inlet_T = [412.24, 358.15, 408.15] # K\n",
    "t = 0 # index for inlet_T\n",
    "table4 = pd.DataFrame(columns=[\"Inlet P (MPa)\", \"Outlet P (MPa)\", \"Inlet T (oC)\", \"Outlet T (oC)\", \"Q (MW)\"])\n",
    "for P in const_P:\n",
    "\n",
    "    table4.at[t, \"Inlet P (MPa)\"] = P\n",
    "    table4.at[t, \"Outlet P (MPa)\"] = P\n",
    "    table4.at[t, \"Inlet T (oC)\"] = inlet_T[t] - 273.15\n",
    "    table4.at[t, \"Outlet T (oC)\"] = 40\n",
    "    Q = calc_Q(inlet_T[t], 40+273.15, P*1000000, calc_mol_flow())\n",
    "    table4.at[t, \"Q (MW)\"] = Q\n",
    "    t += 1"
   ]
  }
 ],
 "metadata": {
  "kernelspec": {
   "display_name": "Python 3",
   "language": "python",
   "name": "python3"
  },
  "language_info": {
   "codemirror_mode": {
    "name": "ipython",
    "version": 3
   },
   "file_extension": ".py",
   "mimetype": "text/x-python",
   "name": "python",
   "nbconvert_exporter": "python",
   "pygments_lexer": "ipython3",
   "version": "3.10.11"
  }
 },
 "nbformat": 4,
 "nbformat_minor": 2
}
