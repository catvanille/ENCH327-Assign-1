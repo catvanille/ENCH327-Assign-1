{
 "cells": [
  {
   "cell_type": "markdown",
   "metadata": {},
   "source": [
    "# Questions"
   ]
  },
  {
   "cell_type": "markdown",
   "metadata": {},
   "source": [
    "Validation of Equation of State\n",
    "1. From a design point of view, what are the “CO 2 properties of interest” for the following unit\n",
    "operations: (a) Compressor, (b) Pipeline transportation\n",
    "\n",
    "a) Compressor\n",
    "\n",
    "The CO2 properties of interest for the compressor are its enthalpy, density, flow rate, temperature, and pressure. \n",
    "\n",
    "The change in enthalpy of the CO2 is important to determine the work required to compress the CO2, and the efficiency of the compressor. The density affects the required size of the compressor, and the amount of CO2 that can be compressed at a time (flow rate). The temperature and pressure of the CO2 are important to determine the state of the CO2, and the material the compressor needs to be made of to withstand the pressure of the CO2. With temperature, pressure, and volume, the compressibility can be calculated, which is important to determine the deviation of behaviour from an ideal gas, and the relationship at the different compression stages.\n",
    "\n",
    "b) Pipeline transportation\n",
    "\n",
    "The CO2 properties of interest for pipeline transportation are the viscosity, density, corrosivity, temperature, and pressure.\n",
    "The viscosity of the CO2 is important to determine and minimize the pressure drop in the pipeline. Higher viscosity requires more pumping power to overcome the fricitional resistance. The density determines the amount of CO2 transported in a given pipeline volume, which would affect the cost of transportation and the size of the pipeline. The corrosivity of the CO2, especially with potiential impurities, is critical to determine the material of the pipeline, and the safety measures that need to be implemented. The temperature and pressure, which indicates its state and behaviour is important as when it is above its critial temperature and pressure, it behaves as a supercritical fluid, which offers high density and can be efficiently transported."
   ]
  },
  {
   "cell_type": "markdown",
   "metadata": {},
   "source": [
    "Table 1. Molar volume, compressibility factor for CO 2 at 35o C, 85o C and 135o C over 0.18-18 MPa [1]\n"
   ]
  },
  {
   "cell_type": "markdown",
   "metadata": {},
   "source": [
    "|   P (MPa) |   v(m3/mol) |        Z |     PR-Z |   % Diff Z |\n",
    "|----------:|------------:|---------:|---------:|-----------:|\n",
    "|      0.18 |  0.014119   | 0.991983 | 0.991069 |  0.0921667 |\n",
    "|      2    |  0.0011595  | 0.905167 | 0.896121 |  0.999354  |\n",
    "|      4    |  0.00050825 | 0.793533 | 0.777963 |  1.96212   |\n",
    "|      6    |  0.00027716 | 0.649097 | 0.63115  |  2.76494   |\n",
    "|      8    |  0.00010501 | 0.327905 | 0.340026 |  3.6965    |\n",
    "|     10    |  6.1741e-05 | 0.240991 | 0.263756 |  9.44605   |\n",
    "|     12    |  5.7374e-05 | 0.268735 | 0.285127 |  6.09961   |\n",
    "|     14    |  5.4915e-05 | 0.300087 | 0.312212 |  4.0405    |\n",
    "|     16    |  5.3205e-05 | 0.332277 | 0.340808 |  2.56753   |\n",
    "|     18    |  5.1896e-05 | 0.364615 | 0.369843 |  1.43383   |\n",
    "|      0.18 |  0.016464   | 0.995252 | 0.994502 |  0.0753361 |\n",
    "|      2    |  0.0014073  | 0.945239 | 0.938392 |  0.724415  |\n",
    "|      4    |  0.00066079 | 0.887664 | 0.875727 |  1.34473   |\n",
    "|      6    |  0.00041048 | 0.82712  | 0.812352 |  1.78546   |\n",
    "|      8    |  0.00028426 | 0.763714 | 0.74919  |  1.90173   |\n",
    "|     10    |  0.000208   | 0.698535 | 0.688359 |  1.45676   |\n",
    "|     12    |  0.00015753 | 0.634848 | 0.633942 |  0.142608  |\n",
    "|     14    |  0.00012332 | 0.579811 | 0.59161  |  2.03501   |\n",
    "|     16    |  0.00010096 | 0.542493 | 0.565273 |  4.19914   |\n",
    "|     18    |  8.7004e-05 | 0.525941 | 0.554014 |  5.33779   |\n",
    "|      0.18 |  0.018796   | 0.99703  | 0.996535 |  0.0496567 |\n",
    "|      2    |  0.0016397  | 0.966417 | 0.961973 |  0.459822  |\n",
    "|      4    |  0.0007913  | 0.932763 | 0.92522  |  0.808671  |\n",
    "|      6    |  0.00050865 | 0.899374 | 0.890162 |  1.02429   |\n",
    "|      8    |  0.00036756 | 0.86654  | 0.857317 |  1.06433   |\n",
    "|     10    |  0.00028329 | 0.834836 | 0.827284 |  0.904668  |\n",
    "|     12    |  0.00022763 | 0.804972 | 0.800703 |  0.530353  |\n",
    "|     14    |  0.00018854 | 0.77786  | 0.778172 |  0.0400101 |\n",
    "|     16    |  0.00016001 | 0.754462 | 0.760141 |  0.752726  |\n",
    "|     18    |  0.00013869 | 0.735678 | 0.746821 |  1.51464   |"
   ]
  },
  {
   "cell_type": "markdown",
   "metadata": {},
   "source": [
    "Table 2. Enthalpy difference for CO2 at specified P and T [1]\n",
    "|   P (MPa) |   Delta H T85-T35 (kJ/mol) |   Delta Hdep T85-T35 (kJ/mol) |   Delta H T135-T35 (kJ/mol) |   Delta Hdep T135-T35 (kJ/mol) |\n",
    "|----------:|---------------------------:|------------------------------:|----------------------------:|-------------------------------:|\n",
    "|         2 |                      2.182 |                       2.18704 |                       4.359 |                        4.43188 |\n",
    "|         8 |                      6.46  |                       5.93363 |                       9.32  |                        8.85034 |\n",
    "|        16 |                      6.441 |                       6.39027 |                      10.909 |                       10.6962  |"
   ]
  },
  {
   "cell_type": "markdown",
   "metadata": {},
   "source": [
    "3. Comment on the validity of using PR EOS for CO 2 thermodynamic property calculations\n",
    "\n",
    "With 9.44% being the largest difference between the compressibility factor (Z) and the PR-Z, and most of the differences being around 1%, one can say that the PR EOS is valid for CO2 thermodynamic property calculations. This is especially true for higher temperatures, as the percent differences are smaller for 135o C than for 35o C."
   ]
  },
  {
   "cell_type": "markdown",
   "metadata": {},
   "source": [
    "4. Prior to flowing the CO2 in the pipe, the captured gas must be compressed from 40oC and 1.8 bars to 18MPa. This compression would be achieved in multiple stages. If the compression ratio is not to exceed 3, how many compression stages with interstage cooling would be required?\n",
    "\n",
    "5 compressions stages with interstage cooling would be required. This is assuming that the compression ratio is 3 for all but the last compressor."
   ]
  },
  {
   "cell_type": "markdown",
   "metadata": {},
   "source": [
    "Q5 Sample Calculation [1]\n",
    "![Q5 Sample Calculation](images/q5%20sample.png)"
   ]
  },
  {
   "cell_type": "markdown",
   "metadata": {},
   "source": [
    "Table 3: Welec done at each stage of compression for CO2\n",
    "The compressor is assumed to be:\n",
    "- adiabatic\n",
    "- neglibible change in kinetic and potential energy\n",
    "- continuous flow at steady state\n",
    "- no reactions\n",
    "\n",
    "|   Inlet P (MPa) |   Outlet P (MPa) |   Inlet T (oC) |   Outlet T (oC) |   Welec (MW) |\n",
    "|----------------:|-----------------:|---------------:|----------------:|-------------:|\n",
    "|            0.18 |             0.54 |             40 |          135.76 |     0.395909 |\n",
    "|            0.54 |             1.62 |             40 |          136.51 |     0.389102 |\n",
    "|            1.62 |             4.86 |             40 |          138.77 |     0.369672 |\n",
    "|            4.86 |            14.58 |             40 |          140.63 |     0.306059 |\n",
    "|           14.58 |            18    |             40 |           44.98 |     0.023762 |"
   ]
  },
  {
   "cell_type": "markdown",
   "metadata": {},
   "source": [
    "Q6 Sample Calculation [1]\n",
    "\n",
    "![Q6 Sample Calculation](images/q6%20sample.png)"
   ]
  },
  {
   "cell_type": "markdown",
   "metadata": {},
   "source": [
    "Table 4: Heat duty of inter-stage coolers using dep function expression and ideal gas heat capacity (Cp)\n",
    "The coolers are assumed to be:\n",
    "- not have any moving parts\n",
    "- neglibible change in kinetic and potential energy\n",
    "- continuous flow at steady state\n",
    "- no reactions\n",
    "\n",
    "|   Inlet P (MPa) |   Outlet P (MPa) |   Inlet T (oC) |   Outlet T (oC) |     Q (MW) |\n",
    "|----------------:|-----------------:|---------------:|----------------:|-----------:|\n",
    "|            0.54 |             0.54 |         135.76 |              40 | -0.421127  |\n",
    "|            1.62 |             1.62 |         136.51 |              40 | -0.443267  |\n",
    "|            4.86 |             4.86 |         138.77 |              40 | -0.540038  |\n",
    "|           14.58 |            14.58 |         140.63 |              40 | -1.11646   |\n",
    "|           18    |            18    |          44.98 |              40 | -0.0595863 |"
   ]
  },
  {
   "cell_type": "markdown",
   "metadata": {},
   "source": [
    "7. Calculate the operating expense ($/tonne of CO 2 ) for the compressor station by considering\n",
    "only the electricity cost for work of compression. [2]\n",
    "![Q7 Sample Calculation](images/q7%20sample.png)\n",
    "The operating expense for the compressor station is $14.48 per ton of CO2."
   ]
  },
  {
   "cell_type": "markdown",
   "metadata": {},
   "source": [
    "8. Assuming carbon credit of $60/tonne of CO 2 , what percentage of this credit will can be\n",
    "attributed to the compression cost?\n",
    "\n",
    "About 23.97% of the carbon credit can be attributed to the compression cost."
   ]
  }
 ],
 "metadata": {
  "kernelspec": {
   "display_name": "Python 3",
   "language": "python",
   "name": "python3"
  },
  "language_info": {
   "codemirror_mode": {
    "name": "ipython",
    "version": 3
   },
   "file_extension": ".py",
   "mimetype": "text/x-python",
   "name": "python",
   "nbconvert_exporter": "python",
   "pygments_lexer": "ipython3",
   "version": "3.10.11"
  }
 },
 "nbformat": 4,
 "nbformat_minor": 2
}
